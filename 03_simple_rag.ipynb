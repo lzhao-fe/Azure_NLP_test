{
 "cells": [
  {
   "cell_type": "markdown",
   "metadata": {},
   "source": [
    "### Demo for Azure AI indexing (more write-up to follow)\n",
    "\n",
    "More details on how to set up service principal authentication (application id & tenant id & [service principal] object ID) and RBAC authorisation (ML Contributor, OpenAI contributor) + AI foundry (AI service, OpenAI models, AI Search)"
   ]
  },
  {
   "cell_type": "code",
   "execution_count": null,
   "metadata": {},
   "outputs": [],
   "source": [
    "# Custom RAG with Azure AI Foundry SDK - https://learn.microsoft.com/en-gb/azure/ai-studio/tutorials/copilot-sdk-create-resources?tabs=windows\n",
    "# (Tutorial: Part 1 - Set up project and development environment to build a custom knowledge retrieval (RAG) app with the Azure AI Foundry SDK)\n",
    "\n",
    "# Link AI services to a project - https://learn.microsoft.com/en-us/azure/ai-studio/ai-services/how-to/connect-azure-openai\n",
    "\n",
    "\n",
    "# Tutorial with portal set up and local consumption of index - https://learn.microsoft.com/en-gb/azure/ai-studio/concepts/retrieval-augmented-generation\n",
    "\n",
    "# On ai-inference https://learn.microsoft.com/en-us/python/api/overview/azure/ai-inference-readme?view=azure-python-preview"
   ]
  },
  {
   "cell_type": "code",
   "execution_count": null,
   "metadata": {},
   "outputs": [],
   "source": [
    "# service principal - https://learn.microsoft.com/en-us/azure/machine-learning/how-to-setup-authentication?view=azureml-api-2&tabs=sdk\n",
    "\n",
    "# https://learn.microsoft.com/en-us/azure/machine-learning/how-to-setup-authentication?view=azureml-api-2&tabs=sdk\n",
    "\n",
    "# configure a managed identity for ai search - https://learn.microsoft.com/en-us/azure/search/search-howto-managed-identities-data-sources?tabs=portal-sys%2Cportal-user"
   ]
  },
  {
   "cell_type": "code",
   "execution_count": null,
   "metadata": {},
   "outputs": [],
   "source": [
    "import pandas as pd"
   ]
  },
  {
   "cell_type": "code",
   "execution_count": 6,
   "metadata": {},
   "outputs": [
    {
     "data": {
      "text/plain": [
       "True"
      ]
     },
     "execution_count": 6,
     "metadata": {},
     "output_type": "execute_result"
    }
   ],
   "source": [
    "from dotenv import load_dotenv\n",
    "import os\n",
    "from openai import AzureOpenAI\n",
    "env_path = os.path.join(\".venv/.env\")\n",
    "load_dotenv(dotenv_path=env_path)"
   ]
  },
  {
   "cell_type": "code",
   "execution_count": 3,
   "metadata": {},
   "outputs": [],
   "source": [
    "from azure.ai.projects import AIProjectClient\n",
    "from azure.ai.projects.models import ConnectionType\n",
    "from azure.identity import DefaultAzureCredential\n",
    "from azure.core.credentials import AzureKeyCredential\n",
    "from azure.search.documents import SearchClient\n",
    "from azure.search.documents.indexes import SearchIndexClient"
   ]
  },
  {
   "cell_type": "code",
   "execution_count": 7,
   "metadata": {},
   "outputs": [],
   "source": [
    "# create a project client using environment variables loaded from the .env file\n",
    "project = AIProjectClient.from_connection_string(\n",
    "    conn_str=os.environ[\"AIPROJECT_CONNECTION_STRING\"], credential=DefaultAzureCredential()\n",
    ")"
   ]
  },
  {
   "cell_type": "code",
   "execution_count": 12,
   "metadata": {},
   "outputs": [],
   "source": [
    "# create a vector embeddings client that will be used to generate vector embeddings\n",
    "embeddings = project.inference.get_embeddings_client()"
   ]
  },
  {
   "cell_type": "code",
   "execution_count": 13,
   "metadata": {},
   "outputs": [],
   "source": [
    "# use the project client to get the default search connection\n",
    "search_connection = project.connections.get_default(\n",
    "    connection_type=ConnectionType.AZURE_AI_SEARCH, include_credentials=True\n",
    ")"
   ]
  },
  {
   "cell_type": "code",
   "execution_count": 14,
   "metadata": {},
   "outputs": [],
   "source": [
    "# Create a search index client using the search connection\n",
    "# This client will be used to create and delete search indexes\n",
    "index_client = SearchIndexClient(\n",
    "    endpoint=search_connection.endpoint_url, credential=AzureKeyCredential(key=search_connection.key)\n",
    ")"
   ]
  },
  {
   "cell_type": "code",
   "execution_count": 16,
   "metadata": {},
   "outputs": [
    {
     "name": "stdout",
     "output_type": "stream",
     "text": [
      "Index 'mockup-index' created successfully.\n"
     ]
    }
   ],
   "source": [
    "# the index should then appear in the AI search resource, e.g.,\n",
    "# https://portal.azure.com/#@fegamma.com/resource/subscriptions/1c2256ae-339e-4689-ab4c-b5023dc00d9d/resourceGroups/rg-aistudio-dev-001/providers/Microsoft.Search/searchServices/nlp-exploration-search-free/indexes\n",
    "\n",
    "from azure.search.documents.indexes.models import SearchIndex, SimpleField, SearchableField, SearchFieldDataType\n",
    "\n",
    "# Define the index schema\n",
    "index_name = \"mockup-index\"\n",
    "index_schema = SearchIndex(\n",
    "    name=index_name,\n",
    "    fields=[\n",
    "        SimpleField(name=\"id\", type=SearchFieldDataType.String, key=True),  # Primary key\n",
    "        SearchableField(name=\"content\", type=SearchFieldDataType.String, analyzer_name=\"en.microsoft\"),  # Searchable field\n",
    "        SimpleField(name=\"category\", type=SearchFieldDataType.String, filterable=True),  # Filterable field\n",
    "    ],\n",
    ")\n",
    "\n",
    "# Create the index\n",
    "try:\n",
    "    index_client.create_index(index=index_schema)\n",
    "    print(f\"Index '{index_name}' created successfully.\")\n",
    "except Exception as e:\n",
    "    print(f\"Error creating index: {e}\")\n"
   ]
  },
  {
   "cell_type": "code",
   "execution_count": 17,
   "metadata": {},
   "outputs": [
    {
     "name": "stdout",
     "output_type": "stream",
     "text": [
      "Upload results: [<azure.search.documents._generated.models._models_py3.IndexingResult object at 0x0000016262010620>, <azure.search.documents._generated.models._models_py3.IndexingResult object at 0x0000016262010680>, <azure.search.documents._generated.models._models_py3.IndexingResult object at 0x0000016262010650>]\n"
     ]
    }
   ],
   "source": [
    "# Create a SearchClient for the newly created index\n",
    "search_client = SearchClient(\n",
    "    endpoint=search_connection.endpoint_url,\n",
    "    index_name=index_name,\n",
    "    credential=AzureKeyCredential(key=search_connection.key),\n",
    ")\n",
    "\n",
    "# Define some mock data\n",
    "mock_data = [\n",
    "    {\"id\": \"1\", \"content\": \"The quick brown fox jumps over the lazy dog.\", \"category\": \"animal\"},\n",
    "    {\"id\": \"2\", \"content\": \"Azure AI offers powerful AI capabilities.\", \"category\": \"technology\"},\n",
    "    {\"id\": \"3\", \"content\": \"This is a mock-up document for testing.\", \"category\": \"example\"},\n",
    "]\n",
    "\n",
    "# Upload the documents\n",
    "try:\n",
    "    result = search_client.upload_documents(documents=mock_data)\n",
    "    print(f\"Upload results: {result}\")\n",
    "except Exception as e:\n",
    "    print(f\"Error uploading documents: {e}\")\n"
   ]
  },
  {
   "cell_type": "code",
   "execution_count": 18,
   "metadata": {},
   "outputs": [
    {
     "name": "stdout",
     "output_type": "stream",
     "text": [
      "Search results for query 'AI':\n",
      "{'id': '2', 'content': 'Azure AI offers powerful AI capabilities.', 'category': 'technology', '@search.score': 1.3921447, '@search.reranker_score': None, '@search.highlights': None, '@search.captions': None}\n"
     ]
    }
   ],
   "source": [
    "# Perform a search query\n",
    "query = \"AI\"\n",
    "try:\n",
    "    results = search_client.search(query)\n",
    "    print(f\"Search results for query '{query}':\")\n",
    "    for result in results:\n",
    "        print(result)\n",
    "except Exception as e:\n",
    "    print(f\"Error searching index: {e}\")\n"
   ]
  }
 ],
 "metadata": {
  "kernelspec": {
   "display_name": ".venv",
   "language": "python",
   "name": "python3"
  },
  "language_info": {
   "codemirror_mode": {
    "name": "ipython",
    "version": 3
   },
   "file_extension": ".py",
   "mimetype": "text/x-python",
   "name": "python",
   "nbconvert_exporter": "python",
   "pygments_lexer": "ipython3",
   "version": "3.12.1"
  }
 },
 "nbformat": 4,
 "nbformat_minor": 2
}
