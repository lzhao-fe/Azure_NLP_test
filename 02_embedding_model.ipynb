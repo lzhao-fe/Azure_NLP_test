{
 "cells": [
  {
   "cell_type": "markdown",
   "metadata": {},
   "source": [
    "### Demo for calling a embedding model\n",
    "\n",
    "This type of model can be fed with some texts and return the numerical encoding of the texts.\n",
    "</br>\n",
    "Typical usecase includes: assess similarity between text snippets, search and retrieve relevant texts by semantics (\"meaning\" of texts)."
   ]
  },
  {
   "cell_type": "code",
   "execution_count": 1,
   "metadata": {},
   "outputs": [
    {
     "data": {
      "text/plain": [
       "True"
      ]
     },
     "execution_count": 1,
     "metadata": {},
     "output_type": "execute_result"
    }
   ],
   "source": [
    "# Load in the packages and secrets\n",
    "\n",
    "from dotenv import load_dotenv\n",
    "import os\n",
    "from openai import AzureOpenAI\n",
    "env_path = os.path.join(\".venv/.env\")\n",
    "load_dotenv(dotenv_path=env_path)"
   ]
  },
  {
   "cell_type": "code",
   "execution_count": 2,
   "metadata": {},
   "outputs": [],
   "source": [
    "# create a client and point to the right resource\n",
    "\n",
    "client = AzureOpenAI(\n",
    "    api_key=os.getenv(\"AZURE_OPENAI_API_KEY\"),  \n",
    "    api_version=\"2024-02-01\",\n",
    "    azure_endpoint = os.getenv(\"AZURE_OPENAI_ENDPOINT\")\n",
    "    )\n",
    "\n",
    "# Please make sure the model has been deployed before using \n",
    "deployment_name='embedding_demo'#'document_summarisation' "
   ]
  },
  {
   "cell_type": "code",
   "execution_count": 3,
   "metadata": {},
   "outputs": [],
   "source": [
    "# Call the model, note that please specify the dimension (here uses 4, we tend to use larger and that'll be more costly)\n",
    "# A single or collection of text snippet(s) can be passed as inputs\n",
    "\n",
    "response = client.embeddings.create(\n",
    "    input = [\"Your text string goes here\", \"This is my second string.\"],\n",
    "    model= deployment_name,\n",
    "    dimensions= 4\n",
    ")"
   ]
  },
  {
   "cell_type": "code",
   "execution_count": 4,
   "metadata": {},
   "outputs": [
    {
     "name": "stdout",
     "output_type": "stream",
     "text": [
      "{\n",
      "  \"data\": [\n",
      "    {\n",
      "      \"embedding\": [\n",
      "        0.07968918234109879,\n",
      "        -0.22091856598854065,\n",
      "        -0.06623643636703491,\n",
      "        0.9697718024253845\n",
      "      ],\n",
      "      \"index\": 0,\n",
      "      \"object\": \"embedding\"\n",
      "    },\n",
      "    {\n",
      "      \"embedding\": [\n",
      "        0.8777574300765991,\n",
      "        -0.22160345315933228,\n",
      "        -0.3061474859714508,\n",
      "        0.29446136951446533\n",
      "      ],\n",
      "      \"index\": 1,\n",
      "      \"object\": \"embedding\"\n",
      "    }\n",
      "  ],\n",
      "  \"model\": \"text-embedding-3-large\",\n",
      "  \"object\": \"list\",\n",
      "  \"usage\": {\n",
      "    \"prompt_tokens\": 11,\n",
      "    \"total_tokens\": 11\n",
      "  }\n",
      "}\n"
     ]
    }
   ],
   "source": [
    "# See the full print of results\n",
    "\n",
    "print(response.model_dump_json(indent=2))"
   ]
  },
  {
   "cell_type": "code",
   "execution_count": 5,
   "metadata": {},
   "outputs": [
    {
     "data": {
      "text/plain": [
       "array([[ 0.07968918, -0.22091857, -0.06623644,  0.9697718 ],\n",
       "       [ 0.87775743, -0.22160345, -0.30614749,  0.29446137]])"
      ]
     },
     "execution_count": 5,
     "metadata": {},
     "output_type": "execute_result"
    }
   ],
   "source": [
    "# To access the embeddings only (converting to numpy array in this example)\n",
    "import numpy as np\n",
    "\n",
    "embedding_ = np.array([i.embedding for i in response.data])\n",
    "embedding_"
   ]
  },
  {
   "cell_type": "code",
   "execution_count": 6,
   "metadata": {},
   "outputs": [
    {
     "data": {
      "text/plain": [
       "(2, 4)"
      ]
     },
     "execution_count": 6,
     "metadata": {},
     "output_type": "execute_result"
    }
   ],
   "source": [
    "embedding_.shape"
   ]
  }
 ],
 "metadata": {
  "kernelspec": {
   "display_name": ".venv",
   "language": "python",
   "name": "python3"
  },
  "language_info": {
   "codemirror_mode": {
    "name": "ipython",
    "version": 3
   },
   "file_extension": ".py",
   "mimetype": "text/x-python",
   "name": "python",
   "nbconvert_exporter": "python",
   "pygments_lexer": "ipython3",
   "version": "3.12.1"
  }
 },
 "nbformat": 4,
 "nbformat_minor": 2
}
