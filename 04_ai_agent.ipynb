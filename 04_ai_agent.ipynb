{
 "cells": [
  {
   "cell_type": "markdown",
   "metadata": {},
   "source": []
  },
  {
   "cell_type": "code",
   "execution_count": 1,
   "metadata": {},
   "outputs": [
    {
     "data": {
      "text/plain": [
       "True"
      ]
     },
     "execution_count": 1,
     "metadata": {},
     "output_type": "execute_result"
    }
   ],
   "source": [
    "# https://learn.microsoft.com/en-us/azure/ai-services/openai/how-to/assistant\n",
    "\n",
    "\n",
    "from openai import AzureOpenAI\n",
    "import os\n",
    "from dotenv import load_dotenv\n",
    "env_path = os.path.join(\".venv/.env\")\n",
    "load_dotenv(dotenv_path=env_path)\n"
   ]
  },
  {
   "cell_type": "code",
   "execution_count": 2,
   "metadata": {},
   "outputs": [],
   "source": [
    "# https://learn.microsoft.com/en-us/azure/ai-services/openai/how-to/file-search?tabs=python\n",
    "client = AzureOpenAI(\n",
    "    api_key=os.getenv(\"AZURE_OPENAI_API_KEY\"),  \n",
    "    api_version=\"2024-05-01-preview\",\n",
    "    azure_endpoint = os.getenv(\"AZURE_OPENAI_ENDPOINT\")\n",
    "    )"
   ]
  },
  {
   "cell_type": "code",
   "execution_count": 3,
   "metadata": {},
   "outputs": [],
   "source": [
    "# Create a vector store called \"Financial Statements\"\n",
    "\n",
    "# need to check whether that exists first\n",
    "\n",
    "vector_store = client.beta.vector_stores.create(name=\"CMA_merger\")\n",
    " "
   ]
  },
  {
   "cell_type": "code",
   "execution_count": 4,
   "metadata": {},
   "outputs": [],
   "source": [
    "# Ready the files for upload to OpenAI\n",
    "file_paths = [r\"data\\2024_00020.00002.pdf\"]\n",
    "file_streams = [open(path, \"rb\") for path in file_paths]"
   ]
  },
  {
   "cell_type": "code",
   "execution_count": 5,
   "metadata": {},
   "outputs": [],
   "source": [
    "# Use the upload and poll SDK helper to upload the files, add them to the vector store,\n",
    "# and poll the status of the file batch for completion.\n",
    "file_batch = client.beta.vector_stores.file_batches.upload_and_poll(\n",
    "  vector_store_id=vector_store.id, files=file_streams\n",
    ")"
   ]
  },
  {
   "cell_type": "code",
   "execution_count": 6,
   "metadata": {},
   "outputs": [
    {
     "name": "stdout",
     "output_type": "stream",
     "text": [
      "completed\n",
      "FileCounts(cancelled=0, completed=1, failed=0, in_progress=0, total=1)\n"
     ]
    }
   ],
   "source": [
    "# You can print the status and the file counts of the batch to see the result of this operation.\n",
    "print(file_batch.status)\n",
    "print(file_batch.file_counts)"
   ]
  },
  {
   "cell_type": "code",
   "execution_count": 7,
   "metadata": {},
   "outputs": [],
   "source": [
    "# If we need to update assistant after setting up the vector store\n",
    "\n",
    "# assistant = client.beta.assistants.create(\n",
    "#   name=\"Financial Analyst Assistant\",\n",
    "#   instructions=\"You are a UK CMA merger specialist and very competent in fields of Antitrust, Economic theories of mergers (e.g., theories of harm). Use your knowledge base to answer questions about CMA merger decisions.\",\n",
    "#   model=\"document_summarisation\",\n",
    "#   tools=[{\"type\": \"file_search\"}],\n",
    "#   temperature=0\n",
    "# )\n",
    "\n",
    "\n",
    "# # To make the files accessible to your assistant, update the assistant’s tool_resources with the new vector_store ID.\n",
    "# assistant = client.beta.assistants.update(\n",
    "#   assistant_id=assistant.id,\n",
    "#   tool_resources={\"file_search\": {\"vector_store_ids\": [vector_store.id]}},\n",
    "# )\n",
    "\n",
    "\n",
    "# if we set up the assistant after setting up the vector store (all in one go)\n",
    "\n",
    "assistant = client.beta.assistants.create(\n",
    "  name=\"Financial Analyst Assistant\",\n",
    "  instructions=\"You are a UK CMA merger specialist and very competent in fields of Antitrust, Economic theories of mergers (e.g., theories of harm). Use your knowledge base to answer questions about CMA merger decisions.\",\n",
    "  model=\"document_summarisation\",\n",
    "  tools=[{\"type\": \"file_search\"}],\n",
    "  temperature=0,\n",
    "  tool_resources={\"file_search\": {\"vector_store_ids\": [vector_store.id]}}\n",
    ")\n",
    "\n",
    "# alternatively can attach the pdf as an attachment in the thread, for example\n",
    "\n",
    "# # Upload the user provided file to OpenAI\n",
    "# message_file = client.files.create(\n",
    "#   file=open(r\"data\\2024_00020.00002.pdf\", \"rb\"), purpose=\"assistants\"\n",
    "# )\n",
    " "
   ]
  },
  {
   "cell_type": "code",
   "execution_count": 8,
   "metadata": {},
   "outputs": [
    {
     "name": "stdout",
     "output_type": "stream",
     "text": [
      "Thread ID: thread_hhzAAOd3PZgO3pCOcd2YNrIA\n"
     ]
    }
   ],
   "source": [
    "# https://platform.openai.com/docs/assistants/quickstart\n",
    "\n",
    "\n",
    "# Start a thread\n",
    "# https://platform.openai.com/docs/api-reference/vector-stores-files/file-object\n",
    "thread = thread = client.beta.threads.create()\n",
    "print(f\"Thread ID: {thread.id}\")"
   ]
  },
  {
   "cell_type": "code",
   "execution_count": 9,
   "metadata": {},
   "outputs": [],
   "source": [
    "message = client.beta.threads.messages.create(\n",
    "thread_id=thread.id,\n",
    "role=\"user\",\n",
    "content=\"What is this document about, provide an executive summary of no longer than 200 words.\"\n",
    ")"
   ]
  },
  {
   "cell_type": "code",
   "execution_count": 41,
   "metadata": {},
   "outputs": [],
   "source": [
    "# check message is associated with thread correctly\n",
    "\n",
    "# thread_messages = client.beta.threads.messages.list(thread.id)\n",
    "# print(thread_messages.model_dump_json(indent=2))"
   ]
  },
  {
   "cell_type": "code",
   "execution_count": 10,
   "metadata": {},
   "outputs": [],
   "source": [
    "# https://learn.microsoft.com/en-us/azure/ai-services/openai/assistants-reference-runs?tabs=python\n",
    "\n",
    "# run thread\n",
    "\n",
    "run = client.beta.threads.runs.create(\n",
    "  thread_id=thread.id,\n",
    "  assistant_id=assistant.id\n",
    ")"
   ]
  },
  {
   "cell_type": "code",
   "execution_count": 13,
   "metadata": {},
   "outputs": [
    {
     "name": "stdout",
     "output_type": "stream",
     "text": [
      "completed\n"
     ]
    }
   ],
   "source": [
    "# retrieve thread status\n",
    "\n",
    "# Retrieve the status of the run\n",
    "run = client.beta.threads.runs.retrieve(\n",
    "  thread_id=thread.id,\n",
    "  run_id=run.id\n",
    ")\n",
    "\n",
    "status = run.status\n",
    "print(status)"
   ]
  },
  {
   "cell_type": "code",
   "execution_count": 14,
   "metadata": {},
   "outputs": [],
   "source": [
    "# List thread messages post run\n",
    "\n",
    "messages_ = client.beta.threads.messages.list(\n",
    "  thread_id=thread.id\n",
    ")"
   ]
  },
  {
   "cell_type": "code",
   "execution_count": 25,
   "metadata": {},
   "outputs": [
    {
     "name": "stdout",
     "output_type": "stream",
     "text": [
      "Original question:\n",
      "------------------------------\n",
      "\n",
      "What is this document about, provide an executive summary of no longer than 200 words.\n",
      "\n",
      "\n",
      "==============================\n",
      "\n",
      "\n",
      "Response:\n",
      "------------------------------\n",
      "\n",
      "The document is a decision by the Competition and Markets Authority (CMA) regarding the anticipated acquisition of PGS ASA by TGS ASA. The CMA concluded that the merger does not give rise to a realistic prospect of a substantial lessening of competition (SLC) within any market in the United Kingdom. \n",
      "\n",
      "TGS and PGS are global suppliers of scientific data and intelligence to the energy sector, particularly in marine seismic data used for oil and gas exploration, carbon capture and storage (CCS), and offshore wind infrastructure. The merger was reviewed because both companies have a significant presence in the UK market, with a combined share of supply exceeding 25% in the multiclient marine seismic data sector.\n",
      "\n",
      "The CMA's assessment focused on three main theories of harm: horizontal unilateral effects in the supply of new streamer multiclient marine seismic data, proprietary marine seismic data, and marine seismic data for offshore wind in the North Sea Area. The CMA found that the parties have different business models and technologies, reducing the extent of direct competition between them. Additionally, the merged entity would continue to face strong competition from other major players like CGG, SLB, and Shearwater.\n",
      "\n",
      "Ultimately, the CMA decided not to refer the merger for a more in-depth investigation, concluding that it would not result in a substantial lessening of competition in the UK market【4:0†source】【4:3†source】【4:19†source】.\n"
     ]
    }
   ],
   "source": [
    "all_messages = [i.content[0].text.value for i in messages_.data]\n",
    "\n",
    "break_line = '-'*30 + '\\n\\n'\n",
    "\n",
    "print('Original question:\\n'+ break_line + all_messages[-1])\n",
    "\n",
    "print( '\\n\\n' + '=' * 30 + '\\n\\n')\n",
    "\n",
    "print('Response:\\n'+ break_line  +''.join(all_messages[:-1]))"
   ]
  },
  {
   "cell_type": "code",
   "execution_count": 27,
   "metadata": {},
   "outputs": [],
   "source": [
    "# ask a follow-up question\n",
    "\n",
    "# Add a new user question to the thread\n",
    "message = client.beta.threads.messages.create(\n",
    "    thread_id=thread.id,\n",
    "    role=\"user\",\n",
    "    content=\"What are some key parties involved and their respective market shares?\"\n",
    ")"
   ]
  },
  {
   "cell_type": "code",
   "execution_count": 28,
   "metadata": {},
   "outputs": [
    {
     "name": "stdout",
     "output_type": "stream",
     "text": [
      "queued\n"
     ]
    }
   ],
   "source": [
    "run = client.beta.threads.runs.create(\n",
    "  thread_id=thread.id,\n",
    "  assistant_id=assistant.id,\n",
    "  #instructions=\"New instructions\" #You can optionally provide new instructions  but these will override the default instructions\n",
    ")\n",
    "\n",
    "# Retrieve the status of the run\n",
    "run = client.beta.threads.runs.retrieve(\n",
    "  thread_id=thread.id,\n",
    "  run_id=run.id\n",
    ")\n",
    "\n",
    "status = run.status\n",
    "print(status)"
   ]
  },
  {
   "cell_type": "code",
   "execution_count": 52,
   "metadata": {},
   "outputs": [
    {
     "name": "stdout",
     "output_type": "stream",
     "text": [
      "completed\n"
     ]
    }
   ],
   "source": [
    "# Retrieve the status of the run\n",
    "run = client.beta.threads.runs.retrieve(\n",
    "  thread_id=thread.id,\n",
    "  run_id=run.id\n",
    ")\n",
    "\n",
    "status = run.status\n",
    "print(status)"
   ]
  },
  {
   "cell_type": "markdown",
   "metadata": {},
   "source": [
    "### Looks like we have some memory preserved but not managed well yet, and looks like it can retrieve table based market share\n",
    "\n",
    "Note that the original quesiton still uses the start message when creating the thread, and some response for earlier question was not discarded"
   ]
  },
  {
   "cell_type": "code",
   "execution_count": 56,
   "metadata": {},
   "outputs": [
    {
     "name": "stdout",
     "output_type": "stream",
     "text": [
      "Original question:\n",
      "------------------------------\n",
      "\n",
      "What is this document about, provide an executive summary of no longer than 200 words.\n",
      "\n",
      "\n",
      "==============================\n",
      "\n",
      "\n",
      "Response:\n",
      "------------------------------\n",
      "\n",
      "The key parties involved in the merger are TGS ASA and PGS ASA. Their respective market shares in the supply of new streamer multiclient marine seismic data from 2020 to 2023 are as follows:\n",
      "\n",
      "- **TGS ASA**: \n",
      "  - North Sea Area: 2020 ([5-10]%), 2021 ([10-20]%), 2022 ([10-20]%), 2023 ([0-5]%)\n",
      "  - Global: 2020 ([20-30]%), 2021 ([20-30]%), 2022 ([20-30]%), 2023 ([10-20]%)\n",
      "\n",
      "- **PGS ASA**: \n",
      "  - North Sea Area: 2020 ([30-40]%), 2021 ([20-30]%), 2022 ([5-10]%), 2023 ([40-50]%)\n",
      "  - Global: 2020 ([20-30]%), 2021 ([20-30]%), 2022 ([20-30]%), 2023 ([20-30]%)\n",
      "\n",
      "- **Combined Entity**: \n",
      "  - North Sea Area: 2020 ([40-50]%), 2021 ([30-40]%), 2022 ([20-30]%), 2023 ([40-50]%)\n",
      "  - Global: 2020 ([40-50]%), 2021 ([50-60]%), 2022 ([50-60]%), 2023 ([40-50]%)\n",
      "\n",
      "Other significant competitors in the market include:\n",
      "\n",
      "- **CGG**: \n",
      "  - North Sea Area: 2020 ([40-50]%), 2021 ([20-30]%), 2022 ([30-40]%), 2023 ([40-50]%)\n",
      "  - Global: 2020 ([20-30]%), 2021 ([30-40]%), 2022 ([20-30]%), 2023 ([20-30]%)\n",
      "\n",
      "- **Shearwater**: \n",
      "  - North Sea Area: 2020 ([5-10]%), 2021 ([30-40]%), 2022 ([40-50]%), 2023 ([10-20]%)\n",
      "  - Global: 2020 ([30-40]%), 2021 ([10-20]%), 2022 ([10-20]%), 2023 ([20-30]%)\n",
      "\n",
      "- **SLB**: \n",
      "  - North Sea Area: 2020 ([0-5]%), 2021 ([0-5]%), 2022 ([0-5]%), 2023 ([0-5]%)\n",
      "  - Global: 2020 ([0-5]%), 2021 ([0-5]%), 2022 ([5-10]%), 2023 ([5-10]%)【9:0†source】【9:3†source】【9:18†source】.What are some key parties involved and their respective market shares?What are some key parties involved and their respective market shares?The document is a decision by the Competition and Markets Authority (CMA) regarding the anticipated acquisition of PGS ASA by TGS ASA. The CMA concluded that the merger does not give rise to a realistic prospect of a substantial lessening of competition (SLC) within any market in the United Kingdom. \n",
      "\n",
      "TGS and PGS are global suppliers of scientific data and intelligence to the energy sector, particularly in marine seismic data used for oil and gas exploration, carbon capture and storage (CCS), and offshore wind infrastructure. The merger was reviewed because both companies have a significant presence in the UK market, with a combined share of supply exceeding 25% in the multiclient marine seismic data sector.\n",
      "\n",
      "The CMA's assessment focused on three main theories of harm: horizontal unilateral effects in the supply of new streamer multiclient marine seismic data, proprietary marine seismic data, and marine seismic data for offshore wind in the North Sea Area. The CMA found that the parties have different business models and technologies, reducing the extent of direct competition between them. Additionally, the merged entity would continue to face strong competition from other major players like CGG, SLB, and Shearwater.\n",
      "\n",
      "Ultimately, the CMA decided not to refer the merger for a more in-depth investigation, concluding that it would not result in a substantial lessening of competition in the UK market【4:0†source】【4:3†source】【4:19†source】.\n"
     ]
    }
   ],
   "source": [
    "messages_output_2 = client.beta.threads.messages.list(\n",
    "  thread_id=thread.id\n",
    ")\n",
    "\n",
    "\n",
    "all_messages_2 = [i.content[0].text.value for i in messages_output_2.data]\n",
    "\n",
    "break_line = '-'*30 + '\\n\\n'\n",
    "\n",
    "print('Original question:\\n'+ break_line + all_messages_2[-1])\n",
    "\n",
    "print( '\\n\\n' + '=' * 30 + '\\n\\n')\n",
    "\n",
    "print('Response:\\n'+ break_line  +''.join(all_messages_2[:-1]))"
   ]
  },
  {
   "cell_type": "markdown",
   "metadata": {},
   "source": [
    "## Drafts/ failed runs below -> to further explore"
   ]
  },
  {
   "cell_type": "markdown",
   "metadata": {},
   "source": [
    "### Run the assistant"
   ]
  },
  {
   "cell_type": "code",
   "execution_count": 31,
   "metadata": {},
   "outputs": [],
   "source": [
    "# https://learn.microsoft.com/en-us/azure/ai-services/openai/how-to/file-search?tabs=python\n",
    "\n",
    "from typing_extensions import override\n",
    "from openai import AssistantEventHandler#, OpenAI\n",
    "\n",
    "# First, we create a EventHandler class to define\n",
    "# how we want to handle the events in the response stream.\n",
    "\n",
    "\n",
    " \n",
    "class EventHandler(AssistantEventHandler):\n",
    "    @override\n",
    "    def on_text_created(self, text) -> None:\n",
    "        print(f\"\\nassistant > \", end=\"\", flush=True)\n",
    "\n",
    "    @override\n",
    "    def on_tool_call_created(self, tool_call):\n",
    "        print(f\"\\nassistant > {tool_call.type}\\n\", flush=True)\n",
    "\n",
    "    @override\n",
    "    def on_message_done(self, message) -> None:\n",
    "        # print a citation to the file searched\n",
    "        message_content = message.content[0].text\n",
    "        annotations = message_content.annotations\n",
    "        citations = []\n",
    "        for index, annotation in enumerate(annotations):\n",
    "            message_content.value = message_content.value.replace(\n",
    "                annotation.text, f\"[{index}]\"\n",
    "            )\n",
    "            if file_citation := getattr(annotation, \"file_citation\", None):\n",
    "                cited_file = client.files.retrieve(file_citation.file_id)\n",
    "                citations.append(f\"[{index}] {cited_file.filename}\")\n",
    "\n",
    "        print(message_content.value)\n",
    "        print(\"\\n\".join(citations))\n",
    "\n"
   ]
  },
  {
   "cell_type": "code",
   "execution_count": 32,
   "metadata": {},
   "outputs": [
    {
     "name": "stdout",
     "output_type": "stream",
     "text": [
      "\n",
      "assistant > file_search\n",
      "\n",
      "\n",
      "assistant > The document is a decision by the Competition and Markets Authority (CMA) regarding the anticipated acquisition of PGS ASA by TGS ASA. The CMA concluded that the merger does not give rise to a realistic prospect of a substantial lessening of competition (SLC) within any market in the United Kingdom. \n",
      "\n",
      "TGS and PGS are global suppliers of scientific data and intelligence to companies in the energy sector, particularly in marine seismic data used for oil and gas exploration, carbon capture and storage (CCS), and offshore wind infrastructure. The CMA reviewed the merger to ensure it would not harm competition, given that both companies are significant players in the market.\n",
      "\n",
      "The CMA's assessment focused on three main theories of harm: \n",
      "1. Horizontal unilateral effects in the supply of new streamer multiclient marine seismic data in the North Sea Area.\n",
      "2. Horizontal unilateral effects in the supply of proprietary marine seismic data in the North Sea Area.\n",
      "3. Horizontal unilateral effects in the supply of marine seismic data for offshore wind in the North Sea Area.\n",
      "\n",
      "The CMA found that the merger would not significantly reduce competition due to the differentiated offerings of TGS and PGS, the presence of other strong competitors, and the emerging nature of the offshore wind sector. Consequently, the merger was not referred under section 33(1) of the Enterprise Act 2002[0][2][4][6].\n",
      "[0] 2024_00020.00002.pdf\n",
      "[1] 2024_00020.00002.pdf\n",
      "[2] 2024_00020.00002.pdf\n",
      "[3] 2024_00020.00002.pdf\n",
      "[4] 2024_00020.00002.pdf\n",
      "[5] 2024_00020.00002.pdf\n",
      "[6] 2024_00020.00002.pdf\n",
      "[7] 2024_00020.00002.pdf\n"
     ]
    }
   ],
   "source": [
    "# https://platform.openai.com/docs/assistants/deep-dive [Context window management]\n",
    "\n",
    "# When using the File Search tool, we recommend setting the max_prompt_tokens to no less than 20,000. \n",
    "# For longer conversations or multiple interactions with File Search, consider increasing this limit to 50,000, or ideally, \n",
    "# removing the max_prompt_tokens limits altogether to get the highest quality results.\n",
    "\n",
    "\n",
    "\n",
    "\n",
    "# Then, we use the stream SDK helper\n",
    "# with the EventHandler class to create the Run\n",
    "# and stream the response.\n",
    "\n",
    "with client.beta.threads.runs.stream(\n",
    "    thread_id=thread.id,\n",
    "    assistant_id=assistant.id,\n",
    "    instructions=\"Please address the user as Li. The user has a premium account.\",\n",
    "    event_handler=EventHandler(),\n",
    ") as stream:\n",
    "    stream.until_done()"
   ]
  },
  {
   "cell_type": "code",
   "execution_count": 37,
   "metadata": {},
   "outputs": [
    {
     "name": "stdout",
     "output_type": "stream",
     "text": [
      "[TextContentBlock(text=Text(annotations=[], value='What are the key parties mentioned in the document and their market shares'), type='text')]\n"
     ]
    }
   ],
   "source": [
    "# ask follow-up questions\n",
    "\n",
    "follow_up_response = client.beta.threads.messages.create(\n",
    "    thread_id=thread.id,\n",
    "    role = 'user',\n",
    "    content=\"What are the key parties mentioned in the document and their market shares\"\n",
    ")\n",
    "\n",
    "# Print the assistant's response to the follow-up question\n",
    "print(follow_up_response.content)"
   ]
  },
  {
   "cell_type": "code",
   "execution_count": 38,
   "metadata": {},
   "outputs": [
    {
     "data": {
      "text/plain": [
       "Message(id='msg_qqDzLchK484RRydHAmAluKK8', assistant_id=None, attachments=[], completed_at=None, content=[TextContentBlock(text=Text(annotations=[], value='What are the key parties mentioned in the document and their market shares'), type='text')], created_at=1735927691, incomplete_at=None, incomplete_details=None, metadata={}, object='thread.message', role='user', run_id=None, status=None, thread_id='thread_fKjequmTOYrovEFUzfxh7JnT')"
      ]
     },
     "execution_count": 38,
     "metadata": {},
     "output_type": "execute_result"
    }
   ],
   "source": [
    "follow_up_response"
   ]
  },
  {
   "cell_type": "code",
   "execution_count": null,
   "metadata": {},
   "outputs": [],
   "source": [
    "response = client.beta.assistants.messages.create(\n",
    "    assistant_id=assistant.id,\n",
    "    thread_id=thread.id,\n",
    "    content=\"What are the key decisions in the CMA merger document?\"\n",
    ")"
   ]
  },
  {
   "cell_type": "code",
   "execution_count": null,
   "metadata": {},
   "outputs": [],
   "source": [
    "\n",
    "# Create a thread and attach the file to the message\n",
    "thread = client.beta.threads.create(\n",
    "  messages=[\n",
    "    {\n",
    "      \"role\": \"user\",\n",
    "      \"content\": \"How many company shares were outstanding last quarter?\",\n",
    "      # Attach the new file to the message.\n",
    "      \"attachments\": [\n",
    "        { \"file_id\": message_file.id, \"tools\": [{\"type\": \"file_search\"}] }\n",
    "      ],\n",
    "    }\n",
    "  ]\n",
    ")\n",
    " \n",
    "# The thread now has a vector store with that file in its tool resources.\n",
    "print(thread.tool_resources.file_search)\n"
   ]
  }
 ],
 "metadata": {
  "kernelspec": {
   "display_name": ".venv",
   "language": "python",
   "name": "python3"
  },
  "language_info": {
   "codemirror_mode": {
    "name": "ipython",
    "version": 3
   },
   "file_extension": ".py",
   "mimetype": "text/x-python",
   "name": "python",
   "nbconvert_exporter": "python",
   "pygments_lexer": "ipython3",
   "version": "3.12.1"
  }
 },
 "nbformat": 4,
 "nbformat_minor": 2
}
